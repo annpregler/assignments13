{
 "cells": [
  {
   "cell_type": "code",
   "execution_count": 3,
   "id": "b474afd6-53e1-47cf-9720-8596757efbd1",
   "metadata": {},
   "outputs": [],
   "source": [
    "age = 15"
   ]
  },
  {
   "cell_type": "code",
   "execution_count": 5,
   "id": "14439e0c-7ddc-4a5b-bec5-c8146c8a200d",
   "metadata": {},
   "outputs": [
    {
     "name": "stdout",
     "output_type": "stream",
     "text": [
      "You are a minor\n"
     ]
    }
   ],
   "source": [
    "if age >= 18:\n",
    "    print('You are an adult')\n",
    "else:\n",
    "    print('You are a minor')"
   ]
  },
  {
   "cell_type": "code",
   "execution_count": 17,
   "id": "973aa720-7b40-41f8-a2e6-2c8ec31e9edb",
   "metadata": {},
   "outputs": [],
   "source": [
    "fruit = 'grape'"
   ]
  },
  {
   "cell_type": "code",
   "execution_count": 20,
   "id": "b2cb7c73-6fae-4d7c-a9a0-f7a4a70597ed",
   "metadata": {},
   "outputs": [
    {
     "name": "stdout",
     "output_type": "stream",
     "text": [
      "Sorry, we don't know that fruit\n"
     ]
    }
   ],
   "source": [
    "if fruit == 'banana':\n",
    "    print('You found a banana!')\n",
    "elif fruit == 'apple':\n",
    "    print('You found an apple!')\n",
    "elif fruit == 'orange':\n",
    "    print('You found an orange!')\n",
    "elif fruit == 'kiwi':\n",
    "    print('You found an kiwi!')\n",
    "else:\n",
    "    print(\"Sorry, we don't know that fruit\")"
   ]
  },
  {
   "cell_type": "code",
   "execution_count": 26,
   "id": "93b25c2a-4681-4d89-9104-80fa65c5d72b",
   "metadata": {},
   "outputs": [],
   "source": [
    "def check_positive(number):\n",
    "    if number>0:\n",
    "        print('The number is positive')"
   ]
  },
  {
   "cell_type": "code",
   "execution_count": 27,
   "id": "8a18052a-50cd-401c-9124-bfea1d8925af",
   "metadata": {},
   "outputs": [
    {
     "name": "stdout",
     "output_type": "stream",
     "text": [
      "The number is positive\n"
     ]
    }
   ],
   "source": [
    "check_positive(5)"
   ]
  },
  {
   "cell_type": "code",
   "execution_count": 28,
   "id": "916ae8cf-2583-4d2d-a2ea-b3a56906d841",
   "metadata": {},
   "outputs": [
    {
     "name": "stdout",
     "output_type": "stream",
     "text": [
      "The number is positive\n"
     ]
    }
   ],
   "source": [
    "check_positive(10)"
   ]
  },
  {
   "cell_type": "code",
   "execution_count": 29,
   "id": "bdf88d0b-be5a-4b03-b9a8-1629c868526f",
   "metadata": {},
   "outputs": [],
   "source": [
    "check_positive(-2)"
   ]
  },
  {
   "cell_type": "code",
   "execution_count": 30,
   "id": "71c6dc9a-6ca3-4ef5-9605-7ff52d29601f",
   "metadata": {},
   "outputs": [],
   "source": [
    "#Task 2\n",
    "def check_grade(score):\n",
    "    if score>=60:\n",
    "        print(\"Pass\")\n",
    "    else:\n",
    "        print(\"Fail\")"
   ]
  },
  {
   "cell_type": "code",
   "execution_count": 31,
   "id": "df05c479-c5f9-4822-a181-bc6d97dac536",
   "metadata": {},
   "outputs": [
    {
     "name": "stdout",
     "output_type": "stream",
     "text": [
      "Pass\n"
     ]
    }
   ],
   "source": [
    "check_grade(70)"
   ]
  },
  {
   "cell_type": "code",
   "execution_count": 32,
   "id": "bd7b8ca8-8d36-46b6-91fa-e617c153107e",
   "metadata": {},
   "outputs": [
    {
     "name": "stdout",
     "output_type": "stream",
     "text": [
      "Fail\n"
     ]
    }
   ],
   "source": [
    "check_grade(50)"
   ]
  },
  {
   "cell_type": "code",
   "execution_count": 33,
   "id": "d7ba217d-1311-46a5-9ef5-2f8a0db431e1",
   "metadata": {},
   "outputs": [],
   "source": [
    "#Task 3"
   ]
  },
  {
   "cell_type": "code",
   "execution_count": 35,
   "id": "e6eefe3d-9ce1-4445-a6c2-fd33b2710a59",
   "metadata": {},
   "outputs": [],
   "source": [
    "def letter_grade(grade):\n",
    "    if grade<=100 and grade>=90:\n",
    "        print(\"A\")\n",
    "    elif grade<90 and grade>=80:\n",
    "        print(\"B\")\n",
    "    elif grade<80 and grade>=70:\n",
    "        print(\"C\")\n",
    "    elif grade<70 and grade >=60:\n",
    "        print(\"D\")\n",
    "    else:\n",
    "        print(\"F\")"
   ]
  },
  {
   "cell_type": "code",
   "execution_count": 36,
   "id": "0bf30da5-5b60-45bf-9cdd-9935d3714e05",
   "metadata": {},
   "outputs": [
    {
     "name": "stdout",
     "output_type": "stream",
     "text": [
      "B\n"
     ]
    }
   ],
   "source": [
    "letter_grade(85)"
   ]
  },
  {
   "cell_type": "code",
   "execution_count": 37,
   "id": "43b098d4-1d95-4f29-bb6f-bfe0d20375c0",
   "metadata": {},
   "outputs": [
    {
     "name": "stdout",
     "output_type": "stream",
     "text": [
      "D\n"
     ]
    }
   ],
   "source": [
    "letter_grade(65)"
   ]
  },
  {
   "cell_type": "code",
   "execution_count": 38,
   "id": "5a1c97f9-6862-4e89-892f-53589d6117de",
   "metadata": {},
   "outputs": [],
   "source": [
    "def letter_grade_alt(grade):\n",
    "    if grade<=60:\n",
    "        print(\"F\")\n",
    "    elif grade<70:\n",
    "        print(\"D\")\n",
    "    elif grade<80:\n",
    "        print(\"C\")\n",
    "    elif grade<90:\n",
    "        print(\"B\")\n",
    "    elif grade<100:\n",
    "        print(\"A\")"
   ]
  },
  {
   "cell_type": "code",
   "execution_count": 39,
   "id": "153d4fe4-67dd-4663-ac23-bee27541025a",
   "metadata": {},
   "outputs": [
    {
     "name": "stdout",
     "output_type": "stream",
     "text": [
      "C\n"
     ]
    }
   ],
   "source": [
    "letter_grade_alt(75)"
   ]
  },
  {
   "cell_type": "code",
   "execution_count": null,
   "id": "d6f22436-be1c-4dc7-911b-313a127739d7",
   "metadata": {},
   "outputs": [],
   "source": []
  }
 ],
 "metadata": {
  "kernelspec": {
   "display_name": "Python 3 (ipykernel)",
   "language": "python",
   "name": "python3"
  },
  "language_info": {
   "codemirror_mode": {
    "name": "ipython",
    "version": 3
   },
   "file_extension": ".py",
   "mimetype": "text/x-python",
   "name": "python",
   "nbconvert_exporter": "python",
   "pygments_lexer": "ipython3",
   "version": "3.13.3"
  }
 },
 "nbformat": 4,
 "nbformat_minor": 5
}
